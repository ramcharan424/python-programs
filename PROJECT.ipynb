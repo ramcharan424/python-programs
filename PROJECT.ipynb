{
  "nbformat": 4,
  "nbformat_minor": 0,
  "metadata": {
    "colab": {
      "provenance": []
    },
    "kernelspec": {
      "name": "python3",
      "display_name": "Python 3"
    },
    "language_info": {
      "name": "python"
    }
  },
  "cells": [
    {
      "cell_type": "code",
      "execution_count": null,
      "metadata": {
        "id": "v0KNe-D08jud"
      },
      "outputs": [],
      "source": []
    },
    {
      "cell_type": "markdown",
      "source": [
        "#SIMPLE CALCULATOR"
      ],
      "metadata": {
        "id": "5NnHqHXU8nlI"
      }
    },
    {
      "cell_type": "code",
      "source": [
        "def add(x,y):\n",
        "  return x+y\n",
        "def subtract(x,y):\n",
        "  return x-y\n",
        "def multiply(x,y):\n",
        "  return x*y\n",
        "def divide(x,y):\n",
        "  if y!=0:\n",
        "    return x/y\n",
        "  else:\n",
        "     return \"error! division by zero\"\n",
        "def calculator():\n",
        "    print(\"select operation:\")\n",
        "    print(\"choose operation:\")\n",
        "    print(\"1. add\")\n",
        "    print(\"2.subract\")\n",
        "    print(\"3. multiply\")\n",
        "    print(\"4. divide\")\n",
        "    while True:\n",
        "        choice = input(\"enter choice (1/2/3/4):\")\n",
        "        if choice in ['1','2','3','4']:\n",
        "            num1=float(input(\"enter first number:\"))\n",
        "            num2=float(input(\"enter second number:\"))\n",
        "            if choice == '1':\n",
        "              print(f\"the result is:{add(num1,num2)}\")\n",
        "            elif choice=='2':\n",
        "              print(f\"the result is:{subtract(num1,num2)}\")\n",
        "            elif choice=='3':\n",
        "              print(f\"the result is:{multiply(num1,num2)}\")\n",
        "            elif choice=='4':\n",
        "              print(f\"the result is:{divide(num1,num2)}\")\n",
        "            next_calculation=input(\"do you want to perform another calculation?(yes/no):\")\n",
        "            if next_calculation.lower() !='yes':\n",
        "                break\n",
        "        else:\n",
        "             print(\"invaild input\")\n",
        " # run the calculator\n",
        "calculator()"
      ],
      "metadata": {
        "colab": {
          "base_uri": "https://localhost:8080/"
        },
        "id": "UWvFXNcu-GMS",
        "outputId": "ab646d53-9160-4c5f-a51c-945bdb15c931"
      },
      "execution_count": null,
      "outputs": [
        {
          "output_type": "stream",
          "name": "stdout",
          "text": [
            "select operation:\n",
            "choose operation:\n",
            "1. add\n",
            "2.subract\n",
            "3. multiply\n",
            "4. divide\n",
            "enter choice (1/2/3/4):2\n",
            "enter first number:2\n",
            "enter second number:2\n",
            "the result is:0.0\n"
          ]
        }
      ]
    },
    {
      "cell_type": "code",
      "source": [
        "23"
      ],
      "metadata": {
        "id": "KD5muInQD5QE"
      },
      "execution_count": null,
      "outputs": []
    }
  ]
}