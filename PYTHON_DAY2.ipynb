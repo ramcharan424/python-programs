{
  "nbformat": 4,
  "nbformat_minor": 0,
  "metadata": {
    "colab": {
      "provenance": []
    },
    "kernelspec": {
      "name": "python3",
      "display_name": "Python 3"
    },
    "language_info": {
      "name": "python"
    }
  },
  "cells": [
    {
      "cell_type": "code",
      "source": [],
      "metadata": {
        "id": "mDOtL8sDLa9v"
      },
      "execution_count": null,
      "outputs": []
    },
    {
      "cell_type": "code",
      "source": [],
      "metadata": {
        "id": "NOlMHuQEY0ze"
      },
      "execution_count": null,
      "outputs": []
    },
    {
      "cell_type": "markdown",
      "source": [
        "#operators"
      ],
      "metadata": {
        "id": "lq7Te-XJLqRS"
      }
    },
    {
      "cell_type": "code",
      "source": [
        "a=10\n",
        "b=20\n",
        "a+b"
      ],
      "metadata": {
        "colab": {
          "base_uri": "https://localhost:8080/"
        },
        "id": "_pafJQEpLr-A",
        "outputId": "083b625b-f9fa-4c4f-d551-0a035b6eadc5"
      },
      "execution_count": null,
      "outputs": [
        {
          "output_type": "execute_result",
          "data": {
            "text/plain": [
              "30"
            ]
          },
          "metadata": {},
          "execution_count": 1
        }
      ]
    },
    {
      "cell_type": "code",
      "source": [
        "a-b\n"
      ],
      "metadata": {
        "colab": {
          "base_uri": "https://localhost:8080/"
        },
        "id": "vTCJNECQLyWR",
        "outputId": "ed2e92cb-f5d6-41f2-8be0-25c51ca2540f"
      },
      "execution_count": null,
      "outputs": [
        {
          "output_type": "execute_result",
          "data": {
            "text/plain": [
              "-10"
            ]
          },
          "metadata": {},
          "execution_count": 2
        }
      ]
    },
    {
      "cell_type": "code",
      "source": [
        "print(\"multiplication:\"+str(a*b))"
      ],
      "metadata": {
        "colab": {
          "base_uri": "https://localhost:8080/"
        },
        "id": "0jcfjQGHL2gg",
        "outputId": "da65401b-fb02-498d-90cf-1f979646133d"
      },
      "execution_count": null,
      "outputs": [
        {
          "output_type": "stream",
          "name": "stdout",
          "text": [
            "multiplication:200\n"
          ]
        }
      ]
    },
    {
      "cell_type": "code",
      "source": [
        "print(a/b)"
      ],
      "metadata": {
        "colab": {
          "base_uri": "https://localhost:8080/"
        },
        "id": "iMLd53K8L_j_",
        "outputId": "aa9cbfb8-85a0-43f4-f762-e780ceb3ebf2"
      },
      "execution_count": null,
      "outputs": [
        {
          "output_type": "stream",
          "name": "stdout",
          "text": [
            "0.5\n"
          ]
        }
      ]
    },
    {
      "cell_type": "code",
      "source": [
        "a//b"
      ],
      "metadata": {
        "colab": {
          "base_uri": "https://localhost:8080/"
        },
        "id": "xT14N01VMZ5u",
        "outputId": "225fac7a-7cf6-4bb8-db5b-9299e1d25447"
      },
      "execution_count": null,
      "outputs": [
        {
          "output_type": "execute_result",
          "data": {
            "text/plain": [
              "0"
            ]
          },
          "metadata": {},
          "execution_count": 8
        }
      ]
    },
    {
      "cell_type": "code",
      "source": [
        "b//a"
      ],
      "metadata": {
        "colab": {
          "base_uri": "https://localhost:8080/"
        },
        "id": "Pi-NDgciMpj9",
        "outputId": "118c8522-332e-414b-e16c-d2c9aceb13df"
      },
      "execution_count": null,
      "outputs": [
        {
          "output_type": "execute_result",
          "data": {
            "text/plain": [
              "2"
            ]
          },
          "metadata": {},
          "execution_count": 9
        }
      ]
    },
    {
      "cell_type": "code",
      "source": [
        "a**b\n"
      ],
      "metadata": {
        "colab": {
          "base_uri": "https://localhost:8080/"
        },
        "id": "kawhkTwGMrZd",
        "outputId": "97fb705f-2ad6-4c44-8946-e64c0efadab0"
      },
      "execution_count": null,
      "outputs": [
        {
          "output_type": "execute_result",
          "data": {
            "text/plain": [
              "100000000000000000000"
            ]
          },
          "metadata": {},
          "execution_count": 10
        }
      ]
    },
    {
      "cell_type": "code",
      "source": [
        "d=7425\n",
        "s=550\n",
        "print(\"total time\"+str(d/s))"
      ],
      "metadata": {
        "colab": {
          "base_uri": "https://localhost:8080/"
        },
        "id": "B-C3PfOOM1ac",
        "outputId": "17b913c7-a5e0-457f-f99e-ed133eb72ea2"
      },
      "execution_count": null,
      "outputs": [
        {
          "output_type": "stream",
          "name": "stdout",
          "text": [
            "total time13.5\n"
          ]
        }
      ]
    },
    {
      "cell_type": "code",
      "source": [
        "x=1024\n",
        "tip=20/100\n",
        "#tip given by the person is y\n",
        "y=x*tip\n",
        "print(\"total tip\",y)"
      ],
      "metadata": {
        "colab": {
          "base_uri": "https://localhost:8080/"
        },
        "id": "32phEbVRNzEK",
        "outputId": "34e734d5-8ca0-43a0-f5fe-ebf5637d38ec"
      },
      "execution_count": null,
      "outputs": [
        {
          "output_type": "stream",
          "name": "stdout",
          "text": [
            "total tip 204.8\n"
          ]
        }
      ]
    },
    {
      "cell_type": "code",
      "source": [
        "bill=int(input())\n",
        "tip=20/100*bill\n",
        "print(tip)"
      ],
      "metadata": {
        "colab": {
          "base_uri": "https://localhost:8080/"
        },
        "id": "rlDlFRCdPTrW",
        "outputId": "a79ca671-5323-49be-f808-af674a2a0982"
      },
      "execution_count": null,
      "outputs": [
        {
          "output_type": "stream",
          "name": "stdout",
          "text": [
            "125\n",
            "25.0\n"
          ]
        }
      ]
    },
    {
      "cell_type": "code",
      "source": [
        "a=10\n",
        "b=20\n",
        "print(a>b)\n",
        "print(a<b)\n",
        "print(a==b)\n",
        "print(a!=b)\n",
        "print(a>=b)\n",
        "print(a<=b)"
      ],
      "metadata": {
        "colab": {
          "base_uri": "https://localhost:8080/"
        },
        "id": "8HB7jyrOPg-k",
        "outputId": "2b3f2736-44dd-41df-d416-5a2e89ce97e7"
      },
      "execution_count": null,
      "outputs": [
        {
          "output_type": "stream",
          "name": "stdout",
          "text": [
            "False\n",
            "True\n",
            "False\n",
            "True\n",
            "False\n",
            "True\n"
          ]
        }
      ]
    },
    {
      "cell_type": "code",
      "source": [
        "a= True\n",
        "b= False\n",
        "print(a and b)\n",
        "print(a or b)\n",
        "print(not a)"
      ],
      "metadata": {
        "colab": {
          "base_uri": "https://localhost:8080/"
        },
        "id": "n_5qX--tSH77",
        "outputId": "4a2ab1a7-5110-4129-da4b-9eca3321e86f"
      },
      "execution_count": null,
      "outputs": [
        {
          "output_type": "stream",
          "name": "stdout",
          "text": [
            "False\n",
            "True\n",
            "False\n"
          ]
        }
      ]
    },
    {
      "cell_type": "code",
      "source": [
        "a=10\n",
        "b=a\n",
        "print(b)\n",
        "b += a\n",
        "print(b)\n",
        "b -= a\n",
        "print(b)\n",
        "b *= a\n",
        "print(b)\n",
        "b <<= a\n",
        "print(b)"
      ],
      "metadata": {
        "colab": {
          "base_uri": "https://localhost:8080/"
        },
        "id": "Msu49lkFS85p",
        "outputId": "d0b86df8-15ae-4408-b381-74573b77e14b"
      },
      "execution_count": null,
      "outputs": [
        {
          "output_type": "stream",
          "name": "stdout",
          "text": [
            "10\n",
            "20\n",
            "10\n",
            "100\n",
            "102400\n"
          ]
        }
      ]
    },
    {
      "cell_type": "code",
      "source": [
        "a=10\n",
        "b=20\n",
        "c=a\n",
        "print(a is not b)\n",
        "print(a is c)\n",
        "print(b is c)"
      ],
      "metadata": {
        "colab": {
          "base_uri": "https://localhost:8080/"
        },
        "id": "tR5QVKevUQDl",
        "outputId": "b502b7d1-0fde-4a16-826c-aac1706acb2e"
      },
      "execution_count": null,
      "outputs": [
        {
          "output_type": "stream",
          "name": "stdout",
          "text": [
            "True\n",
            "True\n",
            "False\n"
          ]
        }
      ]
    },
    {
      "cell_type": "code",
      "source": [
        "n .,x=10\n",
        "y=15\n",
        "list=[10,20,30,40,50]\n",
        "if(x not in list):\n",
        "   print(\"x is not present given list \")\n",
        "lṇse:\n",
        "     print(\"x is present in given list\")\n",
        " if(y in list):\n",
        "    print(\"y is present in given list\")\n",
        "  else:\n",
        "      print(\"y is not  present in given list\")\n",
        "\n"
      ],
      "metadata": {
        "colab": {
          "base_uri": "https://localhost:8080/",
          "height": 106
        },
        "id": "8K-YDBy6VTsR",
        "outputId": "f2621a72-53eb-43df-8481-589d462630e3"
      },
      "execution_count": null,
      "outputs": [
        {
          "output_type": "error",
          "ename": "IndentationError",
          "evalue": "unindent does not match any outer indentation level (<tokenize>, line 6)",
          "traceback": [
            "\u001b[0;36m  File \u001b[0;32m\"<tokenize>\"\u001b[0;36m, line \u001b[0;32m6\u001b[0m\n\u001b[0;31m    elṇse:\u001b[0m\n\u001b[0m    ^\u001b[0m\n\u001b[0;31mIndentationError\u001b[0m\u001b[0;31m:\u001b[0m unindent does not match any outer indentation level\n"
          ]
        }
      ]
    },
    {
      "cell_type": "code",
      "source": [
        "\"hello\"+\" \"+\"world\""
      ],
      "metadata": {
        "colab": {
          "base_uri": "https://localhost:8080/",
          "height": 35
        },
        "id": "jsqFnx2CWgdt",
        "outputId": "6f49598b-8a19-4292-8505-d62bc976681b"
      },
      "execution_count": null,
      "outputs": [
        {
          "output_type": "execute_result",
          "data": {
            "text/plain": [
              "'hello world'"
            ],
            "application/vnd.google.colaboratory.intrinsic+json": {
              "type": "string"
            }
          },
          "metadata": {},
          "execution_count": 50
        }
      ]
    },
    {
      "cell_type": "code",
      "source": [
        "(1,2,23)   *9"
      ],
      "metadata": {
        "id": "wuv8YgHlYD4o",
        "colab": {
          "base_uri": "https://localhost:8080/"
        },
        "outputId": "5d3dab60-813e-42c9-b8f3-fbf135b689f3"
      },
      "execution_count": null,
      "outputs": [
        {
          "output_type": "execute_result",
          "data": {
            "text/plain": [
              "(1,\n",
              " 2,\n",
              " 23,\n",
              " 1,\n",
              " 2,\n",
              " 23,\n",
              " 1,\n",
              " 2,\n",
              " 23,\n",
              " 1,\n",
              " 2,\n",
              " 23,\n",
              " 1,\n",
              " 2,\n",
              " 23,\n",
              " 1,\n",
              " 2,\n",
              " 23,\n",
              " 1,\n",
              " 2,\n",
              " 23,\n",
              " 1,\n",
              " 2,\n",
              " 23,\n",
              " 1,\n",
              " 2,\n",
              " 23)"
            ]
          },
          "metadata": {},
          "execution_count": 56
        }
      ]
    },
    {
      "cell_type": "code",
      "source": [
        "age=16\n",
        "if age<18:\n",
        "  print(\"you can't vote!\")\n",
        "else:\n",
        "    print(\"you can vote!\")\n",
        "print(\"done!\")"
      ],
      "metadata": {
        "colab": {
          "base_uri": "https://localhost:8080/"
        },
        "id": "uqKSeKzCZ80E",
        "outputId": "d29aa641-f51b-4513-cdcc-8df478320308"
      },
      "execution_count": null,
      "outputs": [
        {
          "output_type": "stream",
          "name": "stdout",
          "text": [
            "you can't vote!\n",
            "done!\n"
          ]
        }
      ]
    },
    {
      "cell_type": "code",
      "source": [
        "age=20\n",
        "print(\"you cant vote!\")if age<18 else print(\"you can vote!\")\n",
        "print(\"done!\")"
      ],
      "metadata": {
        "id": "bXjmuwIhY3Zu",
        "colab": {
          "base_uri": "https://localhost:8080/"
        },
        "outputId": "ad999e20-1fde-44af-989a-1db5fc9ec3d8"
      },
      "execution_count": null,
      "outputs": [
        {
          "output_type": "stream",
          "name": "stdout",
          "text": [
            "you can vote!\n",
            "done!\n"
          ]
        }
      ]
    },
    {
      "cell_type": "code",
      "source": [
        "x=int(input())\n",
        "if x>20:\n",
        "  print(\"above twenty,\")\n",
        "  if x>30:\n",
        "    print(\"and also above 30!\")"
      ],
      "metadata": {
        "id": "zJ4BA1hkbfxe",
        "colab": {
          "base_uri": "https://localhost:8080/"
        },
        "outputId": "d2d48cd5-562e-4026-8411-1ba780cc5642"
      },
      "execution_count": null,
      "outputs": [
        {
          "output_type": "stream",
          "name": "stdout",
          "text": [
            "35\n",
            "above twenty,\n",
            "and also above 30!\n"
          ]
        }
      ]
    },
    {
      "cell_type": "code",
      "source": [
        "a=33\n",
        "b=33\n",
        "if b>a:\n",
        "  print(\"b is greater tha a\")\n",
        "elif a==b:\n",
        "  print(\"a and b are equal\")"
      ],
      "metadata": {
        "colab": {
          "base_uri": "https://localhost:8080/"
        },
        "id": "n2XeIGrJefl1",
        "outputId": "bfc00ced-7994-4b58-97e1-771f999bea67"
      },
      "execution_count": null,
      "outputs": [
        {
          "output_type": "stream",
          "name": "stdout",
          "text": [
            "a and b are equal\n"
          ]
        }
      ]
    },
    {
      "cell_type": "code",
      "source": [
        "a=200\n",
        "b=33\n",
        "if b>a:\n",
        "  print(\"b is greatere than a\")\n",
        "elif a==b:\n",
        "  print(\"a and b are equal\")\n",
        "else:\n",
        "  print(\"a is greater than b\")"
      ],
      "metadata": {
        "colab": {
          "base_uri": "https://localhost:8080/"
        },
        "id": "U50-WdUAfc7C",
        "outputId": "2603f6f9-5f3b-4e5f-c056-76bce5388a28"
      },
      "execution_count": null,
      "outputs": [
        {
          "output_type": "stream",
          "name": "stdout",
          "text": [
            "a is greater than b\n"
          ]
        }
      ]
    },
    {
      "cell_type": "code",
      "source": [
        "a=200\n",
        "b=33\n",
        "if a>b:print(\"a is greater than b \")"
      ],
      "metadata": {
        "colab": {
          "base_uri": "https://localhost:8080/"
        },
        "id": "NLDltU09f7hA",
        "outputId": "9cdf8c64-5e48-4608-8e92-449e85a03c2a"
      },
      "execution_count": null,
      "outputs": [
        {
          "output_type": "stream",
          "name": "stdout",
          "text": [
            "a is greater than b \n"
          ]
        }
      ]
    },
    {
      "cell_type": "code",
      "source": [
        "a=2\n",
        "b=330\n",
        "print(\"A\") if a>b else print(\"B\")"
      ],
      "metadata": {
        "colab": {
          "base_uri": "https://localhost:8080/"
        },
        "id": "G0sGb-EJgG1N",
        "outputId": "33c42c57-41c7-4c26-c3a3-43a551f9008a"
      },
      "execution_count": null,
      "outputs": [
        {
          "output_type": "stream",
          "name": "stdout",
          "text": [
            "B\n"
          ]
        }
      ]
    },
    {
      "cell_type": "code",
      "source": [
        "weight=int(input());\n",
        "height=float(input());\n",
        "x=weight/(height*height);\n",
        "print(x)\n",
        "if(x<18.5):\n",
        "  print(\"underweight\")\n",
        "if(x>=18.5 and x<25):\n",
        "   print(\"normal\")\n",
        "if  x>=25 and x<30:\n",
        "   print(\"overweight\")\n",
        "if x>=30:\n",
        "    print(\"obesity\")\n",
        "\n"
      ],
      "metadata": {
        "id": "_GD1xCOOgbef",
        "colab": {
          "base_uri": "https://localhost:8080/"
        },
        "outputId": "1a517d1a-b7d2-4694-cde5-69d72d23c31b"
      },
      "execution_count": null,
      "outputs": [
        {
          "output_type": "stream",
          "name": "stdout",
          "text": [
            "20\n",
            "1.9\n",
            "5.54016620498615\n",
            "underweight\n"
          ]
        }
      ]
    },
    {
      "cell_type": "code",
      "source": [],
      "metadata": {
        "id": "RhPzM6n2zQWB"
      },
      "execution_count": null,
      "outputs": []
    }
  ]
}